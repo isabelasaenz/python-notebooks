{
  "cells": [
    {
      "cell_type": "markdown",
      "metadata": {
        "id": "view-in-github",
        "colab_type": "text"
      },
      "source": [
        "<a href=\"https://colab.research.google.com/github/isabelasaenz/python-notebooks/blob/main/EP4_feito.ipynb\" target=\"_parent\"><img src=\"https://colab.research.google.com/assets/colab-badge.svg\" alt=\"Open In Colab\"/></a>"
      ]
    },
    {
      "cell_type": "markdown",
      "source": [
        "# Exercício de Programação 4\n",
        "\n",
        "<font color=\"red\">**Prazo de submissão: 23:55 do dia 23.01.2022** </font>\n",
        "\n",
        "2021.2 Álgebra Linear Computacional - DCC - UFMG\n",
        "\n",
        "Erickson - Fabricio\n",
        "\n",
        "Instruções:\n",
        "* Antes de submeter suas soluções, certifique-se de que tudo roda como esperado. Primeiro, **reinicie o kernel** no menu, selecione Kernel$\\rightarrow$Restart e então execute **todas as células** (no menu, Cell$\\rightarrow$Run All)\n",
        "* Apenas o arquivo .ipynb deve ser submetido. Ele não deve ser compactado.\n",
        "* Não deixe de preencher seu nome e número de matrícula na célula a seguir"
      ],
      "metadata": {
        "id": "settled-diversity"
      },
      "id": "settled-diversity"
    },
    {
      "cell_type": "markdown",
      "source": [
        "**Nome do aluno:** INSIRA SEU NOME AQUI\n",
        "\n",
        "**Matricula:** INSIRA SUA MATRICULA AQUI"
      ],
      "metadata": {
        "id": "rational-architecture"
      },
      "id": "rational-architecture"
    },
    {
      "cell_type": "markdown",
      "source": [
        "## Introdução\n",
        "Esse EP será dividido em 3 partes:\n",
        "1. PCA\n",
        "2. Regressão Linear Simples\n",
        "3. Regressão Múltipla\n",
        "\n",
        "Os conceitos cobrados aqui são discutidos nas aulas que abrangem o conteúdo de cada parte e elas devem ser a principal fonte de consulta para suas soluções.\n",
        "\n",
        "Para as três partes, iremos trabalhar com um dataset (já disponível aqui no código) que contém os preços de imóveis do [Condado de King](https://pt.wikipedia.org/wiki/Condado_de_King_(Washington)) (Washington, EUA). O objetivo desse exercício é utilizar das técnicas aprendidas em aula para prever os preços imobiliários do condado através das características dos imóveis."
      ],
      "metadata": {
        "id": "committed-lecture"
      },
      "id": "committed-lecture"
    },
    {
      "cell_type": "code",
      "execution_count": null,
      "source": [
        "# ATENÇÃO: Não editar esta célula\n",
        "\n",
        "############### Write code below ##################\n",
        "import numpy as np\n",
        "data = np.array([[2.2190e+05, 3.0000e+00, 1.0000e+00, 1.1800e+03, 5.6500e+03,\n",
        "        1.0000e+00, 3.0000e+00, 7.0000e+00, 1.1800e+03, 1.9550e+03,\n",
        "        1.3400e+03, 5.6500e+03],\n",
        "       [5.3800e+05, 3.0000e+00, 2.2500e+00, 2.5700e+03, 7.2420e+03,\n",
        "        2.0000e+00, 3.0000e+00, 7.0000e+00, 2.1700e+03, 1.9510e+03,\n",
        "        1.6900e+03, 7.6390e+03],\n",
        "       [1.8000e+05, 2.0000e+00, 1.0000e+00, 7.7000e+02, 1.0000e+04,\n",
        "        1.0000e+00, 3.0000e+00, 6.0000e+00, 7.7000e+02, 1.9330e+03,\n",
        "        2.7200e+03, 8.0620e+03],\n",
        "       [6.0400e+05, 4.0000e+00, 3.0000e+00, 1.9600e+03, 5.0000e+03,\n",
        "        1.0000e+00, 5.0000e+00, 7.0000e+00, 1.0500e+03, 1.9650e+03,\n",
        "        1.3600e+03, 5.0000e+03],\n",
        "       [5.1000e+05, 3.0000e+00, 2.0000e+00, 1.6800e+03, 8.0800e+03,\n",
        "        1.0000e+00, 3.0000e+00, 8.0000e+00, 1.6800e+03, 1.9870e+03,\n",
        "        1.8000e+03, 7.5030e+03],\n",
        "       [2.5750e+05, 3.0000e+00, 2.2500e+00, 1.7150e+03, 6.8190e+03,\n",
        "        2.0000e+00, 3.0000e+00, 7.0000e+00, 1.7150e+03, 1.9950e+03,\n",
        "        2.2380e+03, 6.8190e+03],\n",
        "       [2.9185e+05, 3.0000e+00, 1.5000e+00, 1.0600e+03, 9.7110e+03,\n",
        "        1.0000e+00, 3.0000e+00, 7.0000e+00, 1.0600e+03, 1.9630e+03,\n",
        "        1.6500e+03, 9.7110e+03],\n",
        "       [2.2950e+05, 3.0000e+00, 1.0000e+00, 1.7800e+03, 7.4700e+03,\n",
        "        1.0000e+00, 3.0000e+00, 7.0000e+00, 1.0500e+03, 1.9600e+03,\n",
        "        1.7800e+03, 8.1130e+03],\n",
        "       [3.2300e+05, 3.0000e+00, 2.5000e+00, 1.8900e+03, 6.5600e+03,\n",
        "        2.0000e+00, 3.0000e+00, 7.0000e+00, 1.8900e+03, 2.0030e+03,\n",
        "        2.3900e+03, 7.5700e+03],\n",
        "       [6.6250e+05, 3.0000e+00, 2.5000e+00, 3.5600e+03, 9.7960e+03,\n",
        "        1.0000e+00, 3.0000e+00, 8.0000e+00, 1.8600e+03, 1.9650e+03,\n",
        "        2.2100e+03, 8.9250e+03],\n",
        "       [4.6800e+05, 2.0000e+00, 1.0000e+00, 1.1600e+03, 6.0000e+03,\n",
        "        1.0000e+00, 4.0000e+00, 7.0000e+00, 8.6000e+02, 1.9420e+03,\n",
        "        1.3300e+03, 6.0000e+03],\n",
        "       [3.1000e+05, 3.0000e+00, 1.0000e+00, 1.4300e+03, 1.9901e+04,\n",
        "        1.5000e+00, 4.0000e+00, 7.0000e+00, 1.4300e+03, 1.9270e+03,\n",
        "        1.7800e+03, 1.2697e+04],\n",
        "       [4.0000e+05, 3.0000e+00, 1.7500e+00, 1.3700e+03, 9.6800e+03,\n",
        "        1.0000e+00, 4.0000e+00, 7.0000e+00, 1.3700e+03, 1.9770e+03,\n",
        "        1.3700e+03, 1.0208e+04],\n",
        "       [5.3000e+05, 5.0000e+00, 2.0000e+00, 1.8100e+03, 4.8500e+03,\n",
        "        1.5000e+00, 3.0000e+00, 7.0000e+00, 1.8100e+03, 1.9000e+03,\n",
        "        1.3600e+03, 4.8500e+03],\n",
        "       [6.5000e+05, 4.0000e+00, 3.0000e+00, 2.9500e+03, 5.0000e+03,\n",
        "        2.0000e+00, 3.0000e+00, 9.0000e+00, 1.9800e+03, 1.9790e+03,\n",
        "        2.1400e+03, 4.0000e+03],\n",
        "       [3.9500e+05, 3.0000e+00, 2.0000e+00, 1.8900e+03, 1.4040e+04,\n",
        "        2.0000e+00, 3.0000e+00, 7.0000e+00, 1.8900e+03, 1.9940e+03,\n",
        "        1.8900e+03, 1.4018e+04],\n",
        "       [4.8500e+05, 4.0000e+00, 1.0000e+00, 1.6000e+03, 4.3000e+03,\n",
        "        1.5000e+00, 4.0000e+00, 7.0000e+00, 1.6000e+03, 1.9160e+03,\n",
        "        1.6100e+03, 4.3000e+03],\n",
        "       [1.8900e+05, 2.0000e+00, 1.0000e+00, 1.2000e+03, 9.8500e+03,\n",
        "        1.0000e+00, 4.0000e+00, 7.0000e+00, 1.2000e+03, 1.9210e+03,\n",
        "        1.0600e+03, 5.0950e+03],\n",
        "       [2.3000e+05, 3.0000e+00, 1.0000e+00, 1.2500e+03, 9.7740e+03,\n",
        "        1.0000e+00, 4.0000e+00, 7.0000e+00, 1.2500e+03, 1.9690e+03,\n",
        "        1.2800e+03, 8.8500e+03],\n",
        "       [3.8500e+05, 4.0000e+00, 1.7500e+00, 1.6200e+03, 4.9800e+03,\n",
        "        1.0000e+00, 4.0000e+00, 7.0000e+00, 8.6000e+02, 1.9470e+03,\n",
        "        1.4000e+03, 4.9800e+03],\n",
        "       [2.8500e+05, 5.0000e+00, 2.5000e+00, 2.2700e+03, 6.3000e+03,\n",
        "        2.0000e+00, 3.0000e+00, 8.0000e+00, 2.2700e+03, 1.9950e+03,\n",
        "        2.2400e+03, 7.0050e+03],\n",
        "       [2.5270e+05, 2.0000e+00, 1.5000e+00, 1.0700e+03, 9.6430e+03,\n",
        "        1.0000e+00, 3.0000e+00, 7.0000e+00, 1.0700e+03, 1.9850e+03,\n",
        "        1.2200e+03, 8.3860e+03],\n",
        "       [3.2900e+05, 3.0000e+00, 2.2500e+00, 2.4500e+03, 6.5000e+03,\n",
        "        2.0000e+00, 4.0000e+00, 8.0000e+00, 2.4500e+03, 1.9850e+03,\n",
        "        2.2000e+03, 6.8650e+03],\n",
        "       [2.3300e+05, 3.0000e+00, 2.0000e+00, 1.7100e+03, 4.6970e+03,\n",
        "        1.5000e+00, 5.0000e+00, 6.0000e+00, 1.7100e+03, 1.9410e+03,\n",
        "        1.0300e+03, 4.7050e+03],\n",
        "       [6.6700e+05, 3.0000e+00, 1.0000e+00, 1.4000e+03, 1.5810e+03,\n",
        "        1.5000e+00, 5.0000e+00, 8.0000e+00, 1.4000e+03, 1.9090e+03,\n",
        "        1.8600e+03, 3.8610e+03],\n",
        "       [4.3800e+05, 3.0000e+00, 1.7500e+00, 1.5200e+03, 6.3800e+03,\n",
        "        1.0000e+00, 3.0000e+00, 7.0000e+00, 7.9000e+02, 1.9480e+03,\n",
        "        1.5200e+03, 6.2350e+03]])"
      ],
      "outputs": [],
      "metadata": {
        "id": "limiting-sterling"
      },
      "id": "limiting-sterling"
    },
    {
      "cell_type": "code",
      "execution_count": null,
      "source": [
        "import matplotlib.pyplot as plt"
      ],
      "outputs": [],
      "metadata": {
        "id": "lesbian-intent"
      },
      "id": "lesbian-intent"
    },
    {
      "cell_type": "markdown",
      "source": [
        "### Questão 1 - PCA\n"
      ],
      "metadata": {
        "id": "computational-birth"
      },
      "id": "computational-birth"
    },
    {
      "cell_type": "markdown",
      "source": [
        "Nessa primeira parte, vamos implementar o algoritmo do PCA como foi descrito nas aulas. O primeiro passo é obter a matriz $X$ da mesma forma como é usado na aula, em que cada linha linha é um atributo (variável), e cada coluna é uma instância de dados.\n",
        "\n",
        "**1.1.1** Como a matriz **data** definida acima está com os valores na forma transposta a essa (instâncias nas linhas e atributos nas colunas), então podemos obter **X** a partir de **data** usando o seu transposto."
      ],
      "metadata": {
        "id": "itffvRYMizM_"
      },
      "id": "itffvRYMizM_"
    },
    {
      "cell_type": "code",
      "execution_count": null,
      "source": [
        "# ATENÇÃO: Não editar esta célula\n",
        "X = data.T\n",
        "n, m = X.shape\n",
        "print(X.shape)"
      ],
      "outputs": [
        {
          "output_type": "stream",
          "name": "stdout",
          "text": [
            "(12, 26)\n"
          ]
        }
      ],
      "metadata": {
        "colab": {
          "base_uri": "https://localhost:8080/"
        },
        "id": "4ckXBj9JhBlM",
        "outputId": "49b2e82c-2fb2-465b-d8cf-264534dbb203"
      },
      "id": "4ckXBj9JhBlM"
    },
    {
      "cell_type": "markdown",
      "source": [
        "O próximo passo agora é fazer a **z-normalização** como é descrito em [aula](https://youtu.be/hlaLh-chsyE?t=1415). Para isso, podemos seguir os 4 passos que são sugeridos em aula:\n",
        "\n",
        "1. Calcular a média $\\mu$ de cada atributo (linha) de **X**.\n",
        "1. Subtrair de cada valor de **X** a média da linha correspondente.\n",
        "1. Calcular a variância de cada linha de **X**.\n",
        "1. Dividir cada valor de **X** pelo desvio padrão (obtido a partir da variância) da linha correspondente."
      ],
      "metadata": {
        "id": "p-8x7-bAla2h"
      },
      "id": "p-8x7-bAla2h"
    },
    {
      "cell_type": "markdown",
      "source": [
        "**1.1.2** Então, primeiramente vamos calcular a média $\\mu$ das linhas de **X**:\n",
        "\n",
        "$$\\mu = \\frac{1}{m} \\sum_{i=1}^{m} \\textbf{x}^{(i)}$$\n",
        "\n",
        "Podemos fazer isso facilmente no `numpy`, considerando a média ao longo da dimensão dos atributos na matriz $X$. Para isso podemos usar [`np.mean`](https://numpy.org/doc/stable/reference/generated/numpy.mean.html), especificando o valor correto do parâmetro `axis`. Note que o resultado $\\mu$ é um vetor coluna de tamanho 12. Calcule esse vetor $\\mu$ a seguir e guarde o resultado em uma variável **mu**."
      ],
      "metadata": {
        "id": "h_ZBCsZLnmXk"
      },
      "id": "h_ZBCsZLnmXk"
    },
    {
      "cell_type": "code",
      "execution_count": null,
      "source": [
        "# Insira seu código aqui\n",
        "# mu = ...\n",
        "mu = np.mean(X, axis=1)\n",
        "print(mu)\n",
        "mu = np.reshape(mu,(mu.size, 1))\n",
        "print(mu.shape)"
      ],
      "outputs": [
        {
          "output_type": "stream",
          "name": "stdout",
          "text": [
            "[3.87113462e+05 3.15384615e+00 1.75000000e+00 1.72557692e+03\n",
            " 7.68476923e+03 1.36538462e+00 3.53846154e+00 7.19230769e+00\n",
            " 1.47557692e+03 1.95815385e+03 1.71030769e+03 7.19411538e+03]\n",
            "(12, 1)\n"
          ]
        }
      ],
      "metadata": {
        "colab": {
          "base_uri": "https://localhost:8080/"
        },
        "id": "Xba2RhWLlZuq",
        "outputId": "9c9fff25-033c-4df9-8687-b677034d7095"
      },
      "id": "Xba2RhWLlZuq"
    },
    {
      "cell_type": "markdown",
      "source": [
        "**1.1.3** Agora que calculamos $\\mu$ podemos centralizar os dados com essa média. Para isso, basta subtratir cada coluna de **X** (cada observação) por essa média:\n",
        "\n",
        "$$\\textbf{x}^{(i)} = \\textbf{x}^{(i)} - \\mu$$\n",
        "\n",
        " Isso pode ser feito através do uso de *broadcasting*, em que o cálculo pode ser feito apenas por uma operação. Calcule essa operação a seguir e salve a matriz resultante numa variável **X_mc**."
      ],
      "metadata": {
        "id": "pV7TJX-Qn43E"
      },
      "id": "pV7TJX-Qn43E"
    },
    {
      "cell_type": "code",
      "execution_count": null,
      "source": [
        "# Insira seu código aqui\n",
        "# X_mc = ...\n",
        "X_mc = X - mu\n",
        "print(X_mc)\n"
      ],
      "outputs": [
        {
          "output_type": "stream",
          "name": "stdout",
          "text": [
            "[[-1.65213462e+05  1.50886538e+05 -2.07113462e+05  2.16886538e+05\n",
            "   1.22886538e+05 -1.29613462e+05 -9.52634615e+04 -1.57613462e+05\n",
            "  -6.41134615e+04  2.75386538e+05  8.08865385e+04 -7.71134615e+04\n",
            "   1.28865385e+04  1.42886538e+05  2.62886538e+05  7.88653846e+03\n",
            "   9.78865385e+04 -1.98113462e+05 -1.57113462e+05 -2.11346154e+03\n",
            "  -1.02113462e+05 -1.34413462e+05 -5.81134615e+04 -1.54113462e+05\n",
            "   2.79886538e+05  5.08865385e+04]\n",
            " [-1.53846154e-01 -1.53846154e-01 -1.15384615e+00  8.46153846e-01\n",
            "  -1.53846154e-01 -1.53846154e-01 -1.53846154e-01 -1.53846154e-01\n",
            "  -1.53846154e-01 -1.53846154e-01 -1.15384615e+00 -1.53846154e-01\n",
            "  -1.53846154e-01  1.84615385e+00  8.46153846e-01 -1.53846154e-01\n",
            "   8.46153846e-01 -1.15384615e+00 -1.53846154e-01  8.46153846e-01\n",
            "   1.84615385e+00 -1.15384615e+00 -1.53846154e-01 -1.53846154e-01\n",
            "  -1.53846154e-01 -1.53846154e-01]\n",
            " [-7.50000000e-01  5.00000000e-01 -7.50000000e-01  1.25000000e+00\n",
            "   2.50000000e-01  5.00000000e-01 -2.50000000e-01 -7.50000000e-01\n",
            "   7.50000000e-01  7.50000000e-01 -7.50000000e-01 -7.50000000e-01\n",
            "   0.00000000e+00  2.50000000e-01  1.25000000e+00  2.50000000e-01\n",
            "  -7.50000000e-01 -7.50000000e-01 -7.50000000e-01  0.00000000e+00\n",
            "   7.50000000e-01 -2.50000000e-01  5.00000000e-01  2.50000000e-01\n",
            "  -7.50000000e-01  0.00000000e+00]\n",
            " [-5.45576923e+02  8.44423077e+02 -9.55576923e+02  2.34423077e+02\n",
            "  -4.55769231e+01 -1.05769231e+01 -6.65576923e+02  5.44230769e+01\n",
            "   1.64423077e+02  1.83442308e+03 -5.65576923e+02 -2.95576923e+02\n",
            "  -3.55576923e+02  8.44230769e+01  1.22442308e+03  1.64423077e+02\n",
            "  -1.25576923e+02 -5.25576923e+02 -4.75576923e+02 -1.05576923e+02\n",
            "   5.44423077e+02 -6.55576923e+02  7.24423077e+02 -1.55769231e+01\n",
            "  -3.25576923e+02 -2.05576923e+02]\n",
            " [-2.03476923e+03 -4.42769231e+02  2.31523077e+03 -2.68476923e+03\n",
            "   3.95230769e+02 -8.65769231e+02  2.02623077e+03 -2.14769231e+02\n",
            "  -1.12476923e+03  2.11123077e+03 -1.68476923e+03  1.22162308e+04\n",
            "   1.99523077e+03 -2.83476923e+03 -2.68476923e+03  6.35523077e+03\n",
            "  -3.38476923e+03  2.16523077e+03  2.08923077e+03 -2.70476923e+03\n",
            "  -1.38476923e+03  1.95823077e+03 -1.18476923e+03 -2.98776923e+03\n",
            "  -6.10376923e+03 -1.30476923e+03]\n",
            " [-3.65384615e-01  6.34615385e-01 -3.65384615e-01 -3.65384615e-01\n",
            "  -3.65384615e-01  6.34615385e-01 -3.65384615e-01 -3.65384615e-01\n",
            "   6.34615385e-01 -3.65384615e-01 -3.65384615e-01  1.34615385e-01\n",
            "  -3.65384615e-01  1.34615385e-01  6.34615385e-01  6.34615385e-01\n",
            "   1.34615385e-01 -3.65384615e-01 -3.65384615e-01 -3.65384615e-01\n",
            "   6.34615385e-01 -3.65384615e-01  6.34615385e-01  1.34615385e-01\n",
            "   1.34615385e-01 -3.65384615e-01]\n",
            " [-5.38461538e-01 -5.38461538e-01 -5.38461538e-01  1.46153846e+00\n",
            "  -5.38461538e-01 -5.38461538e-01 -5.38461538e-01 -5.38461538e-01\n",
            "  -5.38461538e-01 -5.38461538e-01  4.61538462e-01  4.61538462e-01\n",
            "   4.61538462e-01 -5.38461538e-01 -5.38461538e-01 -5.38461538e-01\n",
            "   4.61538462e-01  4.61538462e-01  4.61538462e-01  4.61538462e-01\n",
            "  -5.38461538e-01 -5.38461538e-01  4.61538462e-01  1.46153846e+00\n",
            "   1.46153846e+00 -5.38461538e-01]\n",
            " [-1.92307692e-01 -1.92307692e-01 -1.19230769e+00 -1.92307692e-01\n",
            "   8.07692308e-01 -1.92307692e-01 -1.92307692e-01 -1.92307692e-01\n",
            "  -1.92307692e-01  8.07692308e-01 -1.92307692e-01 -1.92307692e-01\n",
            "  -1.92307692e-01 -1.92307692e-01  1.80769231e+00 -1.92307692e-01\n",
            "  -1.92307692e-01 -1.92307692e-01 -1.92307692e-01 -1.92307692e-01\n",
            "   8.07692308e-01 -1.92307692e-01  8.07692308e-01 -1.19230769e+00\n",
            "   8.07692308e-01 -1.92307692e-01]\n",
            " [-2.95576923e+02  6.94423077e+02 -7.05576923e+02 -4.25576923e+02\n",
            "   2.04423077e+02  2.39423077e+02 -4.15576923e+02 -4.25576923e+02\n",
            "   4.14423077e+02  3.84423077e+02 -6.15576923e+02 -4.55769231e+01\n",
            "  -1.05576923e+02  3.34423077e+02  5.04423077e+02  4.14423077e+02\n",
            "   1.24423077e+02 -2.75576923e+02 -2.25576923e+02 -6.15576923e+02\n",
            "   7.94423077e+02 -4.05576923e+02  9.74423077e+02  2.34423077e+02\n",
            "  -7.55769231e+01 -6.85576923e+02]\n",
            " [-3.15384615e+00 -7.15384615e+00 -2.51538462e+01  6.84615385e+00\n",
            "   2.88461538e+01  3.68461538e+01  4.84615385e+00  1.84615385e+00\n",
            "   4.48461538e+01  6.84615385e+00 -1.61538462e+01 -3.11538462e+01\n",
            "   1.88461538e+01 -5.81538462e+01  2.08461538e+01  3.58461538e+01\n",
            "  -4.21538462e+01 -3.71538462e+01  1.08461538e+01 -1.11538462e+01\n",
            "   3.68461538e+01  2.68461538e+01  2.68461538e+01 -1.71538462e+01\n",
            "  -4.91538462e+01 -1.01538462e+01]\n",
            " [-3.70307692e+02 -2.03076923e+01  1.00969231e+03 -3.50307692e+02\n",
            "   8.96923077e+01  5.27692308e+02 -6.03076923e+01  6.96923077e+01\n",
            "   6.79692308e+02  4.99692308e+02 -3.80307692e+02  6.96923077e+01\n",
            "  -3.40307692e+02 -3.50307692e+02  4.29692308e+02  1.79692308e+02\n",
            "  -1.00307692e+02 -6.50307692e+02 -4.30307692e+02 -3.10307692e+02\n",
            "   5.29692308e+02 -4.90307692e+02  4.89692308e+02 -6.80307692e+02\n",
            "   1.49692308e+02 -1.90307692e+02]\n",
            " [-1.54411538e+03  4.44884615e+02  8.67884615e+02 -2.19411538e+03\n",
            "   3.08884615e+02 -3.75115385e+02  2.51688462e+03  9.18884615e+02\n",
            "   3.75884615e+02  1.73088462e+03 -1.19411538e+03  5.50288462e+03\n",
            "   3.01388462e+03 -2.34411538e+03 -3.19411538e+03  6.82388462e+03\n",
            "  -2.89411538e+03 -2.09911538e+03  1.65588462e+03 -2.21411538e+03\n",
            "  -1.89115385e+02  1.19188462e+03 -3.29115385e+02 -2.48911538e+03\n",
            "  -3.33311538e+03 -9.59115385e+02]]\n"
          ]
        }
      ],
      "metadata": {
        "colab": {
          "base_uri": "https://localhost:8080/"
        },
        "id": "tkziI-02n8Vk",
        "outputId": "cb954fc0-517b-4574-9d20-6e720065d940"
      },
      "id": "tkziI-02n8Vk"
    },
    {
      "cell_type": "markdown",
      "source": [
        "**1.1.4** O próximo passo então é o cálculo da variância de cada linha (variável) de **X**. Como os valores já estão centralizados na média, então para isso basta calcular o quadrado de cada valor na matriz e somar os valores ao longo das linhas, e depois dividir por $m - 1$:\n",
        "\n",
        "$$\\sigma_j^2 = \\frac{1}{m - 1} \\sum_{i=1}^{m} ( \\textbf{x}_j^{(i)} )^2$$\n",
        "\n",
        "Assim como a média $\\mu$, o resultado dessa operação é um vetor coluna $\\sigma^2$, de tamanho 12. Calcule esse vetor a seguir e salve na variável **var**."
      ],
      "metadata": {
        "id": "w-Aj6W_upliO"
      },
      "id": "w-Aj6W_upliO"
    },
    {
      "cell_type": "code",
      "execution_count": null,
      "source": [
        "# Insira seu código aqui\n",
        "# var = ...\n",
        "#var = np.square(X_mc)/(m-1)\n",
        "#print(var.shape)\n",
        "var = (np.sum(np.square(X_mc),axis=1))/(m-1)\n",
        "var = np.reshape(var,(var.size, 1))\n",
        "print(var.shape)\n"
      ],
      "outputs": [
        {
          "output_type": "stream",
          "name": "stdout",
          "text": [
            "(12, 1)\n"
          ]
        }
      ],
      "metadata": {
        "id": "BiiM1QzRrEbk",
        "colab": {
          "base_uri": "https://localhost:8080/"
        },
        "outputId": "fb6ad533-a498-4ae9-c25c-f3f06419f7ac"
      },
      "id": "BiiM1QzRrEbk"
    },
    {
      "cell_type": "markdown",
      "source": [
        "**1.1.5** Agora que possuímos as variâncias de cada linha, podemos dividir cada observação de **X** pelo desvio padrão:\n",
        "\n",
        "$$x_j^{(i)} = x_j^{(i)} / \\sigma_j$$\n",
        "\n",
        "Primeiramente precisamos obter o vetor com os desvios padrão de cada linha $\\sigma$, que pode ser obtido simplesmente tomando a raíz quadrada de cada valor no vetor de variâncias $\\sigma^2$. Para isso podemos usar o [`numpy.sqrt`](https://numpy.org/doc/stable/reference/generated/numpy.sqrt.html). Depois disso, usamos o desvio padrão para dividir cada coluna de **X**. Note que assim como fizemos com a média, essa pode ser feita por *broadcasting* com apenas uma operação. Faça essa operação a seguir, salvando o vetor de desvios padrão numa variável **desvio_pad** e a matriz resultante da normalização em uma variável **Xz**."
      ],
      "metadata": {
        "id": "axVI89qprke9"
      },
      "id": "axVI89qprke9"
    },
    {
      "cell_type": "code",
      "execution_count": null,
      "source": [
        "# Insira seu código aqui\n",
        "# desvio_pad = ...\n",
        "# Xz = ...\n",
        "desvio_pad = np.sqrt(var)\n",
        "Xz = np.divide(X_mc, desvio_pad)"
      ],
      "outputs": [],
      "metadata": {
        "id": "6THAUqKrtwqQ"
      },
      "id": "6THAUqKrtwqQ"
    },
    {
      "cell_type": "markdown",
      "source": [
        "Agora que ja obtemos a matriz **X** z-normalizada, podemos partir para a implementação passo-a-passo do PCA, como foi descrito em [aula](https://youtu.be/UCuKFbxvRT4?t=1487). Note que, da forma como foi descrito na aula, nossa matriz já está na forma correta: linhas = atributos, e colunas = observações (ou instâncias). Porém, vale lembrar que para algumas implementações já prontas do PCA, pode ser que a forma requisitada seja o transposto.\n",
        "\n"
      ],
      "metadata": {
        "id": "0O_1QSKVuwbp"
      },
      "id": "0O_1QSKVuwbp"
    },
    {
      "cell_type": "markdown",
      "source": [
        "**1.2.1** Primeiramente, vamos obter a matriz de covariância **S** que é obtida a partir de **X**:\n",
        "\n",
        "$$S = X X^\\top$$\n",
        "\n",
        "Isso pode ser feito usando uma multiplicação de matrizes padrão. Faça essa operação a seguir, salvando a matriz numa variável **S**:"
      ],
      "metadata": {
        "id": "U8Wusco4v-gp"
      },
      "id": "U8Wusco4v-gp"
    },
    {
      "cell_type": "code",
      "execution_count": null,
      "source": [
        "# Insira seu código aqui\n",
        "# S = ...\n",
        "S = np.dot(Xz, Xz.T)"
      ],
      "outputs": [],
      "metadata": {
        "id": "QRJ8Ufaqwkdh"
      },
      "id": "QRJ8Ufaqwkdh"
    },
    {
      "cell_type": "markdown",
      "source": [
        "**1.2.2** Então, agora que já possuímos **S**, o próximo passo é obter a sua decomposição espectral:\n",
        "\n",
        "$$S = E D E^\\top$$\n",
        "\n",
        "Para isso, podemos usar a função que ja usamos nos EP's passados [`np.linalg.eig`](https://numpy.org/doc/stable/reference/generated/numpy.linalg.eig.html). Lembre-se de que o retorno dessa função são duas variáveis: os autovalores em um vetor, e os autovetores correspondentes em uma matriz ortogonal (cada coluna `i` corresponde ao autovalor na posição `i`). Faça essa operação a seguir, salvando o vetor com autovalores em **D_vet** e autovetores em uma matriz **E**:"
      ],
      "metadata": {
        "id": "CJaN8gpuwo_s"
      },
      "id": "CJaN8gpuwo_s"
    },
    {
      "cell_type": "code",
      "execution_count": null,
      "source": [
        "# Insira seu código aqui\n",
        "# D_vet, E = ...\n",
        "D_vet, E = np.linalg.eig(S)\n",
        "S = E * D_vet * E.T"
      ],
      "outputs": [],
      "metadata": {
        "id": "IqdMB2JOxPRb"
      },
      "id": "IqdMB2JOxPRb"
    },
    {
      "cell_type": "markdown",
      "source": [
        "**1.2.3** O próximo passo do PCA é ordenar os autovalores em ordem decrescente. O motivo disso é deixar os componentes principais (autovetores com autovalores de maior magnitude) nas primeiras colunas de **E**. Portanto, quando reordenamos os autovalores, precisamos guardar qual a ordem que usamos para obtê-los na ordem decrescente, porque essa ordem também será usada para reordenar as colunas de **E**. Por exemplo, suponha que após executar o `np.linalg.eig` obtemos os seguintes autovalores:\n",
        "\n",
        "$$D_{vet} = [0.34,\\ 15.67,\\ 40.60,\\ 28.00,\\ 10.98]$$\n",
        "\n",
        "Então, a ordem dos *índices* que usamos para obter o vetor ordenado decrescentemente é a seguite (considerando que o array inicia com índice 0):\n",
        "\n",
        "$$[2, 3, 1, 4, 0]$$\n",
        "\n",
        "Felizmente, tanto o cálculo desse índice de ordenação quanto a reorganização dos valores dentro de vetores e matrizes pode ser feito facilmente pelo `numpy`. Primeiro, para calcularmos os índices de ordenação podemos usar a função [`numpy.argsort`](https://numpy.org/doc/stable/reference/generated/numpy.argsort.html). Um detalhe é que essa função retorna os índices para ordenar o vetor em ordem crescente, mas queremos ele em ordem decrescente. Para contornar essa limitação podemos reverter os índices resultantes, ou alterantivamente passar para função os valores de $D_{vet}$ com o sinal trocado. Calcule esses índices de ordenação, e guarde em uma variável **indx**:"
      ],
      "metadata": {
        "id": "L6GY8Y-kxqQr"
      },
      "id": "L6GY8Y-kxqQr"
    },
    {
      "cell_type": "code",
      "execution_count": null,
      "source": [
        "# Insira seu código aqui\n",
        "# indx = ...\n",
        "indx = np.argsort(-D_vet)\n",
        "print(indx)"
      ],
      "outputs": [
        {
          "output_type": "stream",
          "name": "stdout",
          "text": [
            "[ 0  1  2  3  4  5  9 11 10  8  7  6]\n"
          ]
        }
      ],
      "metadata": {
        "id": "VLdqQbXhxpmi",
        "colab": {
          "base_uri": "https://localhost:8080/"
        },
        "outputId": "d5710ce0-9914-4b96-bdee-50fc35a41111"
      },
      "id": "VLdqQbXhxpmi"
    },
    {
      "cell_type": "markdown",
      "source": [
        "**1.2.4** Agora que já temos os índices de ordenação, podemos usá-los para reordenar o vetor de autovalores **D_vet** e a matriz com autovetores **E**. O `numpy` permite fazer isso usando seus mecanismos de *indexação*. Usando os índices calculados anteriormente (e que ficam guardados em um `numpy.array`) podemos reordenar tanto o [vetor](https://numpy.org/doc/stable/user/basics.indexing.html#index-arrays) de autovalores quanto as [colunas da matriz](https://numpy.org/doc/stable/user/basics.indexing.html#indexing-multi-dimensional-arrays) dos autovetores. Portanto, podemos fazer essa reordenação com uma operação para os autovalores, e uma operação para os autovetores. Faça essa reordenação a seguir, salvando o vetor de autovalores reordenado em **D_vo**, e a matriz com os autovetores reordenados em **Eo**:"
      ],
      "metadata": {
        "id": "DNslv6511PU1"
      },
      "id": "DNslv6511PU1"
    },
    {
      "cell_type": "code",
      "execution_count": null,
      "source": [
        "# Insira seu código aqui\n",
        "# D_vo = ...\n",
        "# Eo = ...\n",
        "D_vo = D_vet[indx]\n",
        "Eo = E[indx]\n"
      ],
      "outputs": [],
      "metadata": {
        "id": "SPPeCMjr1rul"
      },
      "id": "SPPeCMjr1rul"
    },
    {
      "cell_type": "markdown",
      "source": [
        "**1.2.5** Agora que já obtemos os autovalores e autovetores de **S** reordenados, podemos obter a matriz **P** com os componentes principais. Para isso basta obter a transposta de **Eo**:\n",
        "\n",
        "$$P = E^\\top$$\n",
        "\n",
        "Obtenha essa matriz **P** a seguir (salve o resultado numa variável chamada **P**):"
      ],
      "metadata": {
        "id": "yFiO_G4f24p-"
      },
      "id": "yFiO_G4f24p-"
    },
    {
      "cell_type": "code",
      "execution_count": null,
      "source": [
        "# Insira seu código aqui\n",
        "# P = ...\n",
        "P = Eo.T"
      ],
      "outputs": [],
      "metadata": {
        "id": "cgVJUUj22wId"
      },
      "id": "cgVJUUj22wId"
    },
    {
      "cell_type": "markdown",
      "source": [
        "**1.2.6** Com a matriz **P** de componentes principais, podemos transformar os dados originais **Xz** com esses novos componentes. Para isso, podemos simplesmente multiplicar a matriz de dados **Xz** por **P**, e obter os dados transformados **Y**:\n",
        "\n",
        "$$Y = PX$$\n",
        "\n",
        "Obtenha essa projeção **Y** dos dados a seguir (salve o resultado em uma variável chamada **Y**):"
      ],
      "metadata": {
        "id": "TvL9beoO3drS"
      },
      "id": "TvL9beoO3drS"
    },
    {
      "cell_type": "code",
      "execution_count": null,
      "source": [
        "# Insira seu código aqui\n",
        "# Y = ...\n",
        "Y = np.dot(P, Xz)"
      ],
      "outputs": [],
      "metadata": {
        "id": "GCIzFiFC3_bo"
      },
      "id": "GCIzFiFC3_bo"
    },
    {
      "cell_type": "markdown",
      "source": [
        "**1.2.7** Por fim, podemos ver que a matriz **Y** obtida anteriormente com os dados transformados utiliza todos os componentes principais. Porém, quando usamos o PCA tipicamente queremos usar menos componentes principais para obter uma redução de dimensionalidade dos dados. Obtenha a reconstrução dos dados **Xz** usando apenas os 3 primeiros componentes principais. Para isso, fazemos a mesma operação feita acima, porém considerando apenas as 3 primeiras linhas de P. Faça essa operação a seguir e salve o resultado em **Y_3**:"
      ],
      "metadata": {
        "id": "kw85aWjH4CL7"
      },
      "id": "kw85aWjH4CL7"
    },
    {
      "cell_type": "code",
      "execution_count": null,
      "source": [
        "# Insira seu código aqui\n",
        "# Y_3 = ...\n",
        "Y_3 = np.dot(P[0:3,], Xz)"
      ],
      "outputs": [],
      "metadata": {
        "id": "k7uBDssY4ln3"
      },
      "id": "k7uBDssY4ln3"
    },
    {
      "cell_type": "markdown",
      "source": [
        "### Questão 2 - Regressão Linear Simples\n",
        "\n",
        "Nesta questão faremos a regressão linear para uma das variáveis do imóvel. Buscaremos estabelecer uma relação entre o valor do imóvel e a área habitável do imóvel. Faremos o cálculo através da expressão analítica."
      ],
      "metadata": {
        "id": "standard-brook"
      },
      "id": "standard-brook"
    },
    {
      "cell_type": "code",
      "execution_count": null,
      "source": [
        "# ATENÇÃO: Não editar esta célula\n",
        "\n",
        "# selecionando os preços e as áreas habitáveis do imóvel\n",
        "Y = data[:,0] # Preço do imóvel\n",
        "X = data[:,3] # Área habitável do imóvel\n",
        "\n",
        "try:\n",
        "    plt.plot(X, Y, 'ro');\n",
        "except:\n",
        "    pass"
      ],
      "outputs": [
        {
          "output_type": "display_data",
          "data": {
            "image/png": "[encoded data removed]",
            "text/plain": [
              "<Figure size 432x288 with 1 Axes>"
            ]
          },
          "metadata": {
            "needs_background": "light"
          }
        }
      ],
      "metadata": {
        "id": "thick-hybrid",
        "outputId": "66fe777b-4f59-4290-c2e2-1ee7f4b91598",
        "colab": {
          "base_uri": "https://localhost:8080/",
          "height": 265
        }
      },
      "id": "thick-hybrid"
    },
    {
      "cell_type": "markdown",
      "source": [
        "Conforme pudemos acompanhar durante a [aula](https://youtu.be/4qwuwMbsUZA?t=2262), para casos simples podemos calcular a regressão através de uma expressão analítica. Os coeficientes $\\beta_1$ e $\\beta_0$ podem ser calculados diretamente através das sequintes formulas:\n",
        "\n",
        "$$\\beta_1 =  \\frac{\\sum_{i=1}^{n} ( \\textbf{x}_i - \\hat{x})(\\textbf{y}_i - \\hat{y}) }{\\sum_{i=1}^{n} ( \\textbf{x}_i - \\hat{x})^2} $$\n",
        "\n",
        "$$\\beta_0 =  \\hat{y} - \\beta_1 \\hat{x} $$\n",
        "\n",
        "**2.1** Calcule as médias dos valores de X e Y. Salve os valores obtidos nas variáveis **mu_x** e **mu_y**, respectivamente."
      ],
      "metadata": {
        "id": "D1MgA-maaObz"
      },
      "id": "D1MgA-maaObz"
    },
    {
      "cell_type": "code",
      "execution_count": null,
      "source": [
        "# Insira seu código aqui\n",
        "# mu_x = ...\n",
        "# mu_y = ...\n",
        "mu_x = np.mean(X)\n",
        "mu_y = np.mean(Y)"
      ],
      "outputs": [],
      "metadata": {
        "id": "lonely-certificate"
      },
      "id": "lonely-certificate"
    },
    {
      "cell_type": "markdown",
      "source": [
        "**2.2** Calcule so valores de $\\beta_1$ e de $\\beta_0$. Salve o valor nas variáveis **b1** e **b0**, respectivamente."
      ],
      "metadata": {
        "id": "L78LObHLaObz"
      },
      "id": "L78LObHLaObz"
    },
    {
      "cell_type": "code",
      "execution_count": null,
      "source": [
        "# Insira seu código aqui\n",
        "# b1 = ...\n",
        "# b0 = ...\n",
        "n = np.sum((X - mu_x)*(Y - mu_y))\n",
        "d = np.sum((X - mu_x) ** 2)\n",
        "b1 = np.divide(n, d)\n",
        "b0 = mu_y - b1 * mu_x\n"
      ],
      "outputs": [],
      "metadata": {
        "id": "compliant-indonesian"
      },
      "id": "compliant-indonesian"
    },
    {
      "cell_type": "markdown",
      "source": [
        "Com os valores de $\\beta_1$ e de $\\beta_0$ calculados já temos a regressão linear definida. O resultado da regressão poderá ser vista no gráfico abaixo.\n"
      ],
      "metadata": {
        "id": "conscious-instrument"
      },
      "id": "conscious-instrument"
    },
    {
      "cell_type": "code",
      "execution_count": null,
      "source": [
        "# ATENÇÃO: Não editar esta célula\n",
        "x_line = np.linspace(0, max(X))\n",
        "y_hat = b0 + b1 * x_line\n",
        "\n",
        "try:\n",
        "    plt.plot(X, Y, 'ro')\n",
        "    plt.plot(x_line, y_hat, 'b')\n",
        "except:\n",
        "    pass"
      ],
      "outputs": [
        {
          "output_type": "display_data",
          "data": {
            "image/png": "[encoded data removed]",
            "text/plain": [
              "<Figure size 432x288 with 1 Axes>"
            ]
          },
          "metadata": {
            "needs_background": "light"
          }
        }
      ],
      "metadata": {
        "id": "interesting-attachment",
        "outputId": "c1a4359d-d5d3-48ab-8004-76680856b93c",
        "colab": {
          "base_uri": "https://localhost:8080/",
          "height": 265
        }
      },
      "id": "interesting-attachment"
    },
    {
      "cell_type": "markdown",
      "source": [
        "O que você acha? O preço do imóvel pode ser aproximado com precisão baseando-se apenas na área habitável do imóvel?"
      ],
      "metadata": {
        "id": "i5xi-VDSaOb0"
      },
      "id": "i5xi-VDSaOb0"
    },
    {
      "cell_type": "markdown",
      "source": [
        "### Questão 3 - Regressão Linear Múltipla\n",
        "\n",
        "Como vimos na [aula](https://youtu.be/vYXuiGyjYoA?t=197), é razoavel supor que o preço de um imóvel não depende apenas de um fator, mas seria uma soma ponderada de vários fatores. Para isso usamos a regressão linear múltipla. A implementação detalhada desse algoritimo será objeto das próximas aulas, mas vamos experimentar a função do numpy que faz e avaliar a influência de alguns fatores."
      ],
      "metadata": {
        "id": "serious-apache"
      },
      "id": "serious-apache"
    },
    {
      "cell_type": "code",
      "execution_count": null,
      "source": [
        "# ATENÇÃO: Não editar esta célula\n",
        "X = data[:,1:] #Conjunto de variáveis que compõe o X\n",
        "b0_ones = np.ones((X.shape[0],1))\n",
        "X = np.append(b0_ones, X, axis=1)\n",
        "Y =  data[:,0]\n",
        "print(X.shape)\n",
        "print(Y.shape)"
      ],
      "outputs": [
        {
          "output_type": "stream",
          "name": "stdout",
          "text": [
            "(26, 12)\n",
            "(26,)\n"
          ]
        }
      ],
      "metadata": {
        "id": "progressive-apartment",
        "scrolled": true,
        "colab": {
          "base_uri": "https://localhost:8080/"
        },
        "outputId": "fef9456f-6af2-4f16-b31a-cb47b2029650"
      },
      "id": "progressive-apartment"
    },
    {
      "cell_type": "markdown",
      "source": [
        "|    | price    | bedrooms | bathrooms | sqft_living | sqft_lot | floors | condition | grade | sqft_above | yr_built | sqft_living15 | sqft_lot15 |\n",
        "|----|----------|----------|-----------|-------------|----------|--------|-----------|-------|------------|----------|---------------|------------|\n",
        "| 0  | 221900.0 | 3        | 1.00      | 1180        | 5650     | 1.0    | 3         | 7     | 1180       | 1955     | 1340          | 5650       |\n",
        "| 1  | 538000.0 | 3        | 2.25      | 2570        | 7242     | 2.0    | 3         | 7     | 2170       | 1951     | 1690          | 7639       |\n",
        "| 2  | 180000.0 | 2        | 1.00      | 770         | 10000    | 1.0    | 3         | 6     | 770        | 1933     | 2720          | 8062       |\n",
        "| 3  | 604000.0 | 4        | 3.00      | 1960        | 5000     | 1.0    | 5         | 7     | 1050       | 1965     | 1360          | 5000       |\n",
        "| 4  | 510000.0 | 3        | 2.00      | 1680        | 8080     | 1.0    | 3         | 8     | 1680       | 1987     | 1800          | 7503       |\n",
        "| 6  | 257500.0 | 3        | 2.25      | 1715        | 6819     | 2.0    | 3         | 7     | 1715       | 1995     | 2238          | 6819       |\n",
        "| 7  | 291850.0 | 3        | 1.50      | 1060        | 9711     | 1.0    | 3         | 7     | 1060       | 1963     | 1650          | 9711       |\n",
        "| 8  | 229500.0 | 3        | 1.00      | 1780        | 7470     | 1.0    | 3         | 7     | 1050       | 1960     | 1780          | 8113       |\n",
        "| 9  | 323000.0 | 3        | 2.50      | 1890        | 6560     | 2.0    | 3         | 7     | 1890       | 2003     | 2390          | 7570       |\n",
        "| 10 | 662500.0 | 3        | 2.50      | 3560        | 9796     | 1.0    | 3         | 8     | 1860       | 1965     | 2210          | 8925       |\n",
        "| 11 | 468000.0 | 2        | 1.00      | 1160        | 6000     | 1.0    | 4         | 7     | 860        | 1942     | 1330          | 6000       |\n",
        "| 12 | 310000.0 | 3        | 1.00      | 1430        | 19901    | 1.5    | 4         | 7     | 1430       | 1927     | 1780          | 12697      |\n",
        "| 13 | 400000.0 | 3        | 1.75      | 1370        | 9680     | 1.0    | 4         | 7     | 1370       | 1977     | 1370          | 10208      |\n",
        "| 14 | 530000.0 | 5        | 2.00      | 1810        | 4850     | 1.5    | 3         | 7     | 1810       | 1900     | 1360          | 4850       |\n",
        "| 15 | 650000.0 | 4        | 3.00      | 2950        | 5000     | 2.0    | 3         | 9     | 1980       | 1979     | 2140          | 4000       |\n",
        "| 16 | 395000.0 | 3        | 2.00      | 1890        | 14040    | 2.0    | 3         | 7     | 1890       | 1994     | 1890          | 14018      |\n",
        "| 17 | 485000.0 | 4        | 1.00      | 1600        | 4300     | 1.5    | 4         | 7     | 1600       | 1916     | 1610          | 4300       |\n",
        "| 18 | 189000.0 | 2        | 1.00      | 1200        | 9850     | 1.0    | 4         | 7     | 1200       | 1921     | 1060          | 5095       |\n",
        "| 19 | 230000.0 | 3        | 1.00      | 1250        | 9774     | 1.0    | 4         | 7     | 1250       | 1969     | 1280          | 8850       |\n",
        "| 20 | 385000.0 | 4        | 1.75      | 1620        | 4980     | 1.0    | 4         | 7     | 860        | 1947     | 1400          | 4980       |\n",
        "| 22 | 285000.0 | 5        | 2.50      | 2270        | 6300     | 2.0    | 3         | 8     | 2270       | 1995     | 2240          | 7005       |\n",
        "| 23 | 252700.0 | 2        | 1.50      | 1070        | 9643     | 1.0    | 3         | 7     | 1070       | 1985     | 1220          | 8386       |\n",
        "| 24 | 329000.0 | 3        | 2.25      | 2450        | 6500     | 2.0    | 4         | 8     | 2450       | 1985     | 2200          | 6865       |\n",
        "| 25 | 233000.0 | 3        | 2.00      | 1710        | 4697     | 1.5    | 5         | 6     | 1710       | 1941     | 1030          | 4705       |\n",
        "| 27 | 667000.0 | 3        | 1.00      | 1400        | 1581     | 1.5    | 5         | 8     | 1400       | 1909     | 1860          | 3861       |\n",
        "| 28 | 438000.0 | 3        | 1.75      | 1520        | 6380     | 1.0    | 3         | 7     | 790        | 1948     | 1520          | 6235       |"
      ],
      "metadata": {
        "id": "speaking-function"
      },
      "id": "speaking-function"
    },
    {
      "cell_type": "markdown",
      "source": [
        "**3.1** Vamos então calcular os pesos da soma ponderada de cada fator da tabela de preços dos imóveis. Para isso, por enquanto, utilizaremos a função **np.linalg.lstsq** [(doc)](https://numpy.org/doc/stable/reference/generated/numpy.linalg.lstsq.html) do numpy. Esta função recebe a tabela de dados X e os valores dos preços dos imóveis. Os valores dos pesos deverão ser salvos na variável **vector_b**."
      ],
      "metadata": {
        "id": "n8QhRQK4aOb1"
      },
      "id": "n8QhRQK4aOb1"
    },
    {
      "cell_type": "code",
      "execution_count": null,
      "source": [
        "# Insira seu código aqui\n",
        "#vector_b = np.linalg.lstsq(**Preencha os parametros desta função**, rcond=-1)[0]\n",
        "vector_b = np.linalg.lstsq(X, Y, rcond=-1)[0]"
      ],
      "outputs": [],
      "metadata": {
        "id": "fatal-delivery"
      },
      "id": "fatal-delivery"
    },
    {
      "cell_type": "markdown",
      "source": [
        "**3.2** Por fim, vamos estimar o preço de um imóvel segundo nosso modelo. Para isso devemos fazer a multiplicação do vetor de atributos de um imóvel pelo vetor de pesos obtidos pela regressão linear. A formula é a seguinte:\n",
        "\n",
        "$$y_i =  \\textbf{X}_i  \\textbf{b} $$\n",
        "\n",
        "Aplique a formula acima e obtenha as estimativas dos preços dos imóveis com indices 0, 1 e 2. Salve nas variáveis **preco_0**, **preco_1** e **preco_2** respectivamente."
      ],
      "metadata": {
        "id": "HfzQuM_5aOb2"
      },
      "id": "HfzQuM_5aOb2"
    },
    {
      "cell_type": "code",
      "execution_count": null,
      "source": [
        "# Insira seu código aqui\n",
        "# preco_0 = ...\n",
        "# preco_1 = ...\n",
        "# preco_2 = ...\n",
        "preço_0 = 0\n"
      ],
      "outputs": [],
      "metadata": {
        "id": "IcCoqox5aOb2"
      },
      "id": "IcCoqox5aOb2"
    },
    {
      "cell_type": "code",
      "execution_count": null,
      "source": [],
      "outputs": [],
      "metadata": {
        "id": "YEc7nL3HaOb2"
      },
      "id": "YEc7nL3HaOb2"
    },
    {
      "cell_type": "code",
      "execution_count": null,
      "source": [],
      "outputs": [],
      "metadata": {
        "id": "C_E6mCpagoOi"
      },
      "id": "C_E6mCpagoOi"
    }
  ],
  "metadata": {
    "colab": {
      "provenance": [],
      "include_colab_link": true
    },
    "kernelspec": {
      "display_name": "Python 3",
      "language": "python",
      "name": "python3"
    },
    "language_info": {
      "codemirror_mode": {
        "name": "ipython",
        "version": 3
      },
      "file_extension": ".py",
      "mimetype": "text/x-python",
      "name": "python",
      "nbconvert_exporter": "python",
      "pygments_lexer": "ipython3",
      "version": "3.8.5"
    }
  },
  "nbformat": 4,
  "nbformat_minor": 5
}