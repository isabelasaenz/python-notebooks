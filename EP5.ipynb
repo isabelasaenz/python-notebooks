{
  "cells": [
    {
      "cell_type": "markdown",
      "source": [
        "# Exercício de Programação 5: 4 formas de resolver mínimos quadrados\n",
        "\n",
        "<font color=\"red\">**Prazo de submissão: 23:55 do dia 14/02/2022** </font>\n",
        "\n",
        "2021.2 Álgebra Linear Computacional - DCC - UFMG\n",
        "\n",
        "Erickson - Fabricio\n",
        "\n",
        "Instruções:\n",
        "* Antes de submeter suas soluções, certifique-se de que tudo roda como esperado. Primeiro, **reinicie o kernel** no menu, selecione Kernel $\\rightarrow$ Restart e então execute **todas as células** (no menu, Cell $\\rightarrow$ Run All)\n",
        "* **Transfira suas respostas para o arquivo .py com atenção.**\n",
        "* **Confira se a indentação está correta antes de submeter.**\n",
        "* Apenas o arquivo .py deve ser submetido. Ele não deve ser compactado."
      ],
      "metadata": {
        "id": "EqdUd0ekuPlY"
      }
    },
    {
      "cell_type": "markdown",
      "source": [
        "## Carregando os dados\n",
        "\n",
        "Iremos carregar os dados usando a biblioteca ```pandas```. Não se preocupe se você não conhece a biblioteca, pois o nosso objetivo é apenas extrair a matriz de dados $X$. Segue uma descrição do dataset, retirada [daqui](http://statweb.stanford.edu/~owen/courses/202/Cereals.txt).\n",
        "\n",
        "* Datafile Name: Cereals\n",
        "* Datafile Subjects: Food , Health\n",
        "* Story Names: Healthy Breakfast\n",
        "* Reference: Data available at many grocery stores\n",
        "* Authorization: free use\n",
        "* Description: Data on several variable of different brands of cereal.\n",
        "\n",
        "A value of -1 for nutrients indicates a missing observation.\n",
        "Number of cases: 77\n",
        "Variable Names:\n",
        "\n",
        "  1. Name: Name of cereal\n",
        "  2. mfr: Manufacturer of cereal where A = American Home Food Products; G =\n",
        "     General Mills; K = Kelloggs; N = Nabisco; P = Post; Q = Quaker Oats; R\n",
        "     = Ralston Purina\n",
        "  3. type: cold or hot\n",
        "  4. calories: calories per serving\n",
        "  5. protein: grams of protein\n",
        "  6. fat: grams of fat\n",
        "  7. sodium: milligrams of sodium\n",
        "  8. fiber: grams of dietary fiber\n",
        "  9. carbo: grams of complex carbohydrates\n",
        "  10. sugars: grams of sugars\n",
        "  11. potass: milligrams of potassium\n",
        "  12. vitamins: vitamins and minerals - 0, 25, or 100, indicating the typical percentage of FDA recommended\n",
        "  13. shelf: display shelf (1, 2, or 3, counting from the floor)\n",
        "  14. weight: weight in ounces of one serving\n",
        "  15. cups: number of cups in one serving\n",
        "  16. rating: a rating of the cereals"
      ],
      "metadata": {
        "id": "U6R-TRxzuPle"
      }
    },
    {
      "cell_type": "code",
      "execution_count": null,
      "source": [
        "#Execute esta célula para instalar o pandas caso já não tenha instalado\n",
        "#import sys\n",
        "#!{sys.executable} -m pip install --user pandas"
      ],
      "outputs": [],
      "metadata": {
        "id": "1NQAz84zuPli"
      }
    },
    {
      "cell_type": "code",
      "execution_count": null,
      "source": [
        "import pandas as pd\n",
        "df = pd.read_table('cereal.txt',sep='\\s+',index_col='name')\n",
        "df"
      ],
      "outputs": [],
      "metadata": {
        "id": "R1eVSWVduPlk"
      }
    },
    {
      "cell_type": "markdown",
      "source": [
        "A seguir iremos remover as linhas correspondentes aos cereais que possuem dados faltantes, representados pelo valor -1.\n",
        "Também iremos remover as colunas com dados categóricos 'mfr' e 'type', e os dados numéricos, 'shelf', 'weight' e 'cups'."
      ],
      "metadata": {
        "id": "b39ThqGkuPll"
      }
    },
    {
      "cell_type": "code",
      "execution_count": null,
      "source": [
        "import numpy as np\n",
        "new_df = df.replace(-1,np.nan)\n",
        "new_df = new_df.dropna()\n",
        "new_df = new_df.drop(['mfr','type','shelf','weight','cups'],axis=1)\n",
        "new_df"
      ],
      "outputs": [],
      "metadata": {
        "id": "TsnMemjVuPlm"
      }
    },
    {
      "cell_type": "markdown",
      "source": [
        "Finalmente, iremos converter os dados nutricionais numéricos de ```new_df``` para uma matriz X ('calories', 'protein', 'fat', 'sugars' e 'vitamins') e as avaliações (ratings) para um vetor $y$. Os nomes dos cereais serão salvos em uma lista ```cereral_names``` e os nomes das colunas em uma lista ```col_names```."
      ],
      "metadata": {
        "id": "G6TqFNNXuPlo"
      }
    },
    {
      "cell_type": "code",
      "execution_count": null,
      "source": [
        "cereral_names = list(new_df.index)\n",
        "print('Cereais:',cereral_names)\n",
        "col_names = list(new_df.columns)\n",
        "print('Colunas:',col_names)\n",
        "\n",
        "X = new_df.loc[:,['calories', 'protein', 'fat', 'sugars', 'vitamins']].values\n",
        "print('As dimensões de dados são:',X.shape)\n",
        "y = new_df['rating'].values\n",
        "print('As dimensões de y são:',y.shape)\n"
      ],
      "outputs": [],
      "metadata": {
        "id": "9Qvg6VfauPlp"
      }
    },
    {
      "cell_type": "markdown",
      "source": [
        "## Sistemas Lineares e Mínimos Quadrados\n",
        "\n",
        "Esse Exercício de Programação irá tratar das 4 formas de resolver a otimização de mínimos quadrados a partir da equação normal, iremos estimar os parâmetros de um regressor linear para o nosso dataset de cereais.\n",
        "\n",
        "Dado o sistema linear $X\\beta = b$, procuramos encontrar o valor de de $\\hat{\\beta}$ que minimiza o erro quadrático $||X\\hat{\\beta}-b||^{2}$.\n",
        "\n",
        "Esse valor é definido pela **Equação Normal**:\n",
        "\n",
        "$X^{T}X\\hat{\\beta} = X^{T}b$.\n",
        "\n",
        "Foram apresentados em aula quatro métodos para resolver a Equação Normal:\n",
        "- Inversa da matriz $X^{T}X$\n",
        "- Pseudo-Inversa\n",
        "- Decomposição QR\n",
        "- Decomposição de Cholesky\n",
        "\n",
        "Para relembrar os conceitos, revise as aulas [19](https://www.youtube.com/watch?v=SBsdyq2ha5k) e [20](https://www.youtube.com/watch?v=wuTbS0FOkLY).\n",
        "\n",
        "**ATENÇÃO:**\n",
        "- Programe as questões abaixo com atenção para as funções da biblioteca numpy que são permitidas.\n",
        "- Não serão aceitos trabalhos em que a questão foi resolvida utilizando funções não permitidas.\n",
        "- Para todas as questões, as operações básicas de multiplicação de matrizes serão permitidas."
      ],
      "metadata": {
        "id": "q2z0lWNquPlq"
      }
    },
    {
      "cell_type": "code",
      "execution_count": null,
      "source": [
        "## Não altere essa célula\n",
        "import numpy as np"
      ],
      "outputs": [],
      "metadata": {
        "id": "hc6ZOSjnuPls"
      }
    },
    {
      "cell_type": "markdown",
      "source": [
        "**1.1** Inversa da matriz $X^{T}X$\n",
        "\n",
        "Defina a função **inversa(X, y)** (*1.1.1*) para calcular os parâmetros $\\hat{\\beta}$ a partir do método de **inversão da matriz $X^{T}X$**.\n",
        "\n",
        "**Funções permitidas:**\n",
        "\n",
        "[np.linalg.inv](https://numpy.org/doc/stable/reference/generated/numpy.linalg.inv.html)"
      ],
      "metadata": {
        "id": "eExxs3K8uPlt"
      }
    },
    {
      "cell_type": "code",
      "execution_count": null,
      "source": [
        "## Insira seu código aqui\n",
        "def inversa(X,y):\n",
        "  p = np.linalg.inv(np.dot(X.T, X))\n",
        "  p2 = np.dot(p, X.T)\n",
        "  p3 = np.dot(p2, y)\n",
        "  return p3\n",
        "print(inversa(X,y))"
      ],
      "outputs": [],
      "metadata": {
        "id": "y89MfmOJuPlu"
      }
    },
    {
      "cell_type": "markdown",
      "source": [
        "**1.2** Pseudo-inversa\n",
        "\n",
        "Defina a função **pseudo_inversa(X, y)** (*1.2.1*) para calcular os parâmetros $\\hat{\\beta}$ a partir do método da **pseudo-inversa**.\n",
        "\n",
        "**Funções permitidas:**\n",
        "\n",
        "[np.linalg.svd](https://numpy.org/doc/stable/reference/generated/numpy.linalg.svd.html)"
      ],
      "metadata": {
        "id": "EKuhslQZuPlv"
      }
    },
    {
      "cell_type": "code",
      "execution_count": null,
      "source": [
        "## Insira seu código aqui\n",
        "def pseudo_inversa2(X, y):\n",
        "  ##u, s, vt = np.linalg.svd(X)\n",
        "  u,s,v=np.linalg.svd(X)\n",
        "  ##b = np.linalg.pinv(X) @ y\n",
        "  pinv = np.dot(np.dot(v.T,s.T),u.T)\n",
        "  b = pinv * y\n",
        "  return b\n",
        "  ## erro retornado: shapes (10,) and (150,150) not aligned: 10 (dim 0) != 150 (dim 0).\n",
        "\n",
        "\n",
        "print(pseudo_inversa2(X, y))"
      ],
      "outputs": [],
      "metadata": {
        "id": "pyLYRpYhuPlw"
      }
    },
    {
      "cell_type": "markdown",
      "source": [
        "**1.3** Decomposição QR\n",
        "\n",
        "Defina a função **QR(X, y)** (*1.3.1*) para calcular os parâmetros $\\hat{\\beta}$ a partir do método de **Decomposição QR**.\n",
        "\n",
        "**Funções permitidas:**\n",
        "\n",
        "[np.linalg.inv](https://numpy.org/doc/stable/reference/generated/numpy.linalg.inv.html)\n",
        "\n",
        "[np.linalg.qr](https://numpy.org/doc/stable/reference/generated/numpy.linalg.qr.html)"
      ],
      "metadata": {
        "id": "g8B-fZUbuPlx"
      }
    },
    {
      "cell_type": "code",
      "execution_count": null,
      "source": [
        "## Insira seu código aqui\n",
        "def QR(X, y):\n",
        "  at = np.array([[1, 1, 0], [-1, 1, 0])\n",
        "  q, r = np.linalg.qr(at)\n",
        "  return np.linalg.inv(r) @ q.T @ y\n",
        "print(QR(X, y))\n"
      ],
      "outputs": [],
      "metadata": {
        "id": "5kNg7r2AuPly"
      }
    },
    {
      "cell_type": "markdown",
      "source": [
        "**1.4** Decomposição de Cholesky\n",
        "\n",
        "Defina as funções **substituicao(L, b)** (*1.4.1*) e **retrosubstituicao(Lt, C)** (*1.4.2*) como funções auxiliares para efetuar as substituições do método pela **Decomposição de Cholesky**. Crie também as funções **positiva_definida(X)** (*1.4.3*) e **simetrica(X)** (*1.4.4*) que retornam um *booleano* indicando se a matriz de entrada é positiva definida e simétrica, respectivamente.\n",
        "\n",
        "A partir das funções definidas anteriormente, crie uma função chamada **cholesky(X, y)** (*1.4.5*) para calcular os parâmetros $\\hat{\\beta}$ a partir do método de **Decomposição de Cholesky**, utilize a função **assert** do python e as funções **positiva_definida(X)** e **simetrica(X)** para garantir que a matriz decomposta é simétrica definida positiva.\n",
        "\n",
        "**Funções permitidas:**\n",
        "\n",
        "[np.linalg.cholesky](https://numpy.org/doc/stable/reference/generated/numpy.linalg.cholesky.html)\n",
        "\n",
        "[np.linalg.eigvals](https://numpy.org/doc/stable/reference/generated/numpy.linalg.eigvals.html)\n",
        "\n",
        "[np.allclose](https://numpy.org/doc/stable/reference/generated/numpy.allclose.html)\n",
        "\n",
        "[np.all](https://numpy.org/doc/stable/reference/generated/numpy.all.html)\n"
      ],
      "metadata": {
        "id": "34FQipafuPlz"
      }
    },
    {
      "cell_type": "code",
      "execution_count": null,
      "source": [
        "## Insira seu código aqui\n",
        "\n",
        "def substituicao(L, b):\n",
        "## c\n",
        "    C = L.tT @ b\n",
        "    return C\n",
        "def retrosubstituicao(Lt, C):\n",
        "## B\n",
        "    B = np.divide(C, Lt)\n",
        "    return B\n",
        "\n",
        "def positiva_definida(X):\n",
        "    return np.all(np.linalg.eigvals(X) > 0)\n",
        "\n",
        "\n",
        "def simetrica(X):\n",
        "    return numpy.allclose(X, X.T, rtol=rtol, atol=atol)\n",
        "\n",
        "def cholesky(X, y):\n",
        "  L = np.linalg.cholesky(X) ##matriz L\n",
        "  return L\n",
        "\n"
      ],
      "outputs": [],
      "metadata": {
        "id": "aWuDB6Q_uPl0"
      }
    },
    {
      "cell_type": "markdown",
      "source": [
        "Vamos visualizar os parâmetros estimados utilizando cada método:"
      ],
      "metadata": {
        "id": "_9xuYRPpuPl1"
      }
    },
    {
      "cell_type": "code",
      "execution_count": null,
      "source": [
        "## Insira seu código aqui e descomente o código para imprimir os resultados\n",
        "\n",
        "#betas_pseudo_inversa =\n",
        "#betas_inversa =\n",
        "#betas_qr =\n",
        "#betas_cholesky =\n",
        "\n",
        "#print(betas_pseudo_inversa)\n",
        "#print(betas_inversa)\n",
        "#print(betas_qr)\n",
        "#print(betas_cholesky)"
      ],
      "outputs": [],
      "metadata": {
        "id": "vXiDDlo8uPl2"
      }
    }
  ],
  "metadata": {
    "kernelspec": {
      "name": "python3",
      "display_name": "Python 3.7.4 64-bit ('base': conda)"
    },
    "language_info": {
      "codemirror_mode": {
        "name": "ipython",
        "version": 3
      },
      "file_extension": ".py",
      "mimetype": "text/x-python",
      "name": "python",
      "nbconvert_exporter": "python",
      "pygments_lexer": "ipython3",
      "version": "3.7.4"
    },
    "interpreter": {
      "hash": "578ef2ec7b2332a8a72c808a4c29b860adbe7e10281e8daf5827a81195d81577"
    },
    "colab": {
      "provenance": []
    }
  },
  "nbformat": 4,
  "nbformat_minor": 0
}